{
  "nbformat": 4,
  "nbformat_minor": 0,
  "metadata": {
    "colab": {
      "name": "emo-detect-cnn.ipynb",
      "version": "0.3.2",
      "provenance": []
    },
    "kernelspec": {
      "name": "python3",
      "display_name": "Python 3"
    }
  },
  "cells": [
    {
      "cell_type": "code",
      "metadata": {
        "id": "IC5ZDp6xbmXh",
        "colab_type": "code",
        "colab": {}
      },
      "source": [
        "!unzip -uq \"/content/facial_expressions.zip\""
      ],
      "execution_count": 0,
      "outputs": []
    },
    {
      "cell_type": "markdown",
      "metadata": {
        "id": "7ezeVlKUgI2P",
        "colab_type": "text"
      },
      "source": [
        "## Steps to run:\n",
        "\n",
        "1. Use google collab\n",
        "2. Make sure the data set and data loader are uploaded as files on Collab.\n"
      ]
    },
    {
      "cell_type": "code",
      "metadata": {
        "id": "p-5PJQK9gC8h",
        "colab_type": "code",
        "colab": {}
      },
      "source": [
        "import numpy as np\n",
        "import tensorflow as tf\n",
        "import matplotlib.pyplot as plt\n",
        "import cv2\n",
        "np.random.seed(0)\n",
        "import data_loader\n",
        "import pandas as pd\n",
        "\n",
        "import keras\n",
        "from keras.models import Sequential\n",
        "from keras.layers import Dense, Flatten\n",
        "from keras.optimizers import SGD\n",
        "\n",
        "from keras.layers import Dropout, Activation, Conv2D, MaxPooling2D, MaxPooling1D,GlobalAveragePooling1D\n",
        "from keras.layers.normalization import BatchNormalization \n",
        "from keras import regularizers \n",
        "from keras.layers.convolutional import Conv1D\n"
      ],
      "execution_count": 0,
      "outputs": []
    },
    {
      "cell_type": "code",
      "metadata": {
        "id": "IezTeowpgD6O",
        "colab_type": "code",
        "colab": {}
      },
      "source": [
        "train_files ,train_labels ,valid_files, valid_labels, test_files ,test_labels, label_dict = \\\n",
        "   data_loader.load_dataset('./project/images', 'project/data/legend.csv', valid_rate=0.1)"
      ],
      "execution_count": 0,
      "outputs": []
    },
    {
      "cell_type": "code",
      "metadata": {
        "id": "HaeKSryugZEB",
        "colab_type": "code",
        "colab": {}
      },
      "source": [
        "def image_to_feature_vector(image, size=(64, 64)):\n",
        "\treturn cv2.resize(image, size).flatten()"
      ],
      "execution_count": 0,
      "outputs": []
    },
    {
      "cell_type": "code",
      "metadata": {
        "id": "0IhO1mJ-j-57",
        "colab_type": "code",
        "colab": {}
      },
      "source": [
        "tr_images = []\n",
        "ts_images = []\n",
        "va_images = []\n",
        "\n",
        "for t,im_path in enumerate(train_files):\n",
        "  img = cv2.imread(im_path, 0)\n",
        "  img2 = image_to_feature_vector(img)\n",
        "  tr_images.append(img2)\n",
        "\n",
        "for t,im_path in enumerate(test_files):\n",
        "  img = cv2.imread(im_path, 0)\n",
        "  img2 = image_to_feature_vector(img)\n",
        "  ts_images.append(img2)\n",
        "\n",
        "for t,im_path in enumerate(valid_files):\n",
        "  img = cv2.imread(im_path, 0)\n",
        "  img2 = image_to_feature_vector(img)\n",
        "  va_images.append(img2)\n",
        "  \n",
        "ts_images = np.asarray(ts_images)\n",
        "tr_images = np.asarray(tr_images)\n",
        "va_images = np.asarray(va_images)"
      ],
      "execution_count": 0,
      "outputs": []
    },
    {
      "cell_type": "code",
      "metadata": {
        "id": "rBO-ekmsg7zn",
        "colab_type": "code",
        "colab": {}
      },
      "source": [
        "n_classes = 8\n",
        "y_train = keras.utils.to_categorical(train_labels, n_classes)\n",
        "y_test = keras.utils.to_categorical(test_labels, n_classes)\n",
        "y_valid = keras.utils.to_categorical(valid_labels, n_classes)\n"
      ],
      "execution_count": 0,
      "outputs": []
    },
    {
      "cell_type": "code",
      "metadata": {
        "id": "EDrH2QtgnCcP",
        "colab_type": "code",
        "outputId": "58de3803-ce26-4ebb-a1ef-f54cf3e055b9",
        "colab": {
          "base_uri": "https://localhost:8080/",
          "height": 143
        }
      },
      "source": [
        "print(tr_images.shape)\n",
        "print(y_train.shape)\n",
        "print(y_test.shape)\n",
        "print(y_valid.shape)\n",
        "\n",
        "tri = np.expand_dims(tr_images, axis=2)\n",
        "tsi = np.expand_dims(ts_images, axis=2)\n",
        "vai = np.expand_dims(va_images, axis=2)\n",
        "\n",
        "print(tri.shape)\n",
        "print(tsi.shape)\n",
        "print(vai.shape)"
      ],
      "execution_count": 0,
      "outputs": [
        {
          "output_type": "stream",
          "text": [
            "(11086, 4096)\n",
            "(11086, 8)\n",
            "(1378, 8)\n",
            "(1226, 8)\n",
            "(11086, 4096, 1)\n",
            "(1378, 4096, 1)\n",
            "(1226, 4096, 1)\n"
          ],
          "name": "stdout"
        }
      ]
    },
    {
      "cell_type": "markdown",
      "metadata": {
        "id": "23Xf3Iyaj52x",
        "colab_type": "text"
      },
      "source": [
        "## CNN : Training with 3 Residual Block"
      ]
    },
    {
      "cell_type": "code",
      "metadata": {
        "id": "N8zd-kIDn9y7",
        "colab_type": "code",
        "colab": {}
      },
      "source": [
        "def create_dense():\n",
        "    model = Sequential()\n",
        "\n",
        "    model.add(Conv1D(32, 3, padding ='same', input_shape=(4096,1)))\n",
        "    model.add(BatchNormalization())\n",
        "    model.add(Activation('relu'))\n",
        "    model.add(MaxPooling1D(2))\n",
        "    \n",
        "    model.add(Conv1D(64, 3, padding ='same'))\n",
        "    model.add(BatchNormalization())\n",
        "    model.add(Activation('relu'))\n",
        "    model.add(MaxPooling1D(2))\n",
        "    \n",
        "    model.add(Conv1D(64, 3, padding ='same'))\n",
        "    model.add(BatchNormalization())\n",
        "    model.add(Activation('relu'))\n",
        "    model.add(MaxPooling1D(2))\n",
        "  \n",
        "    model.add(GlobalAveragePooling1D())\n",
        "    model.add(Dense(128, activation='relu'))\n",
        "    model.add(Dropout(0.2))\n",
        "    model.add(Dense(128, activation = 'relu'))\n",
        "    model.add(Dropout(0.2))\n",
        "    model.add(Dense(8, activation='softmax'))\n",
        "    \n",
        "    model.compile(loss='categorical_crossentropy', optimizer='adam', metrics=['accuracy'])\n",
        "    return model\n",
        "\n",
        "def evaluate(model, batch_size=128, epochs=50):\n",
        "    model.summary()\n",
        "    history = model.fit(tri, y_train, batch_size=batch_size, epochs=epochs,\\\n",
        "                        verbose=1, validation_data=(vai, y_valid))\n",
        "    loss, accuracy  = model.evaluate(tsi, y_test, verbose=False)\n",
        "    print(f'Test loss: {loss:.3}')\n",
        "    print(f'Test accuracy: {accuracy:.3}')\n",
        "    plt.plot(history.history['acc'])\n",
        "    plt.plot(history.history['val_acc'])\n",
        "    plt.title('model accuracy')\n",
        "    plt.ylabel('accuracy')\n",
        "    plt.xlabel('epoch')\n",
        "    plt.legend(['training', 'validation'], loc='best')\n",
        "    plt.show()"
      ],
      "execution_count": 0,
      "outputs": []
    },
    {
      "cell_type": "code",
      "metadata": {
        "id": "mI3ku3mFtaCR",
        "colab_type": "code",
        "outputId": "4fbe0a29-9ae6-49d9-d01d-cdba2766168a",
        "colab": {
          "base_uri": "https://localhost:8080/",
          "height": 2997
        }
      },
      "source": [
        "model = create_dense()\n",
        "evaluate(model)"
      ],
      "execution_count": 0,
      "outputs": [
        {
          "output_type": "stream",
          "text": [
            "_________________________________________________________________\n",
            "Layer (type)                 Output Shape              Param #   \n",
            "=================================================================\n",
            "conv1d_4 (Conv1D)            (None, 4096, 32)          128       \n",
            "_________________________________________________________________\n",
            "batch_normalization_4 (Batch (None, 4096, 32)          128       \n",
            "_________________________________________________________________\n",
            "activation_4 (Activation)    (None, 4096, 32)          0         \n",
            "_________________________________________________________________\n",
            "max_pooling1d_4 (MaxPooling1 (None, 2048, 32)          0         \n",
            "_________________________________________________________________\n",
            "conv1d_5 (Conv1D)            (None, 2048, 64)          6208      \n",
            "_________________________________________________________________\n",
            "batch_normalization_5 (Batch (None, 2048, 64)          256       \n",
            "_________________________________________________________________\n",
            "activation_5 (Activation)    (None, 2048, 64)          0         \n",
            "_________________________________________________________________\n",
            "max_pooling1d_5 (MaxPooling1 (None, 1024, 64)          0         \n",
            "_________________________________________________________________\n",
            "conv1d_6 (Conv1D)            (None, 1024, 64)          12352     \n",
            "_________________________________________________________________\n",
            "batch_normalization_6 (Batch (None, 1024, 64)          256       \n",
            "_________________________________________________________________\n",
            "activation_6 (Activation)    (None, 1024, 64)          0         \n",
            "_________________________________________________________________\n",
            "max_pooling1d_6 (MaxPooling1 (None, 512, 64)           0         \n",
            "_________________________________________________________________\n",
            "global_average_pooling1d_2 ( (None, 64)                0         \n",
            "_________________________________________________________________\n",
            "dense_4 (Dense)              (None, 128)               8320      \n",
            "_________________________________________________________________\n",
            "dropout_3 (Dropout)          (None, 128)               0         \n",
            "_________________________________________________________________\n",
            "dense_5 (Dense)              (None, 128)               16512     \n",
            "_________________________________________________________________\n",
            "dropout_4 (Dropout)          (None, 128)               0         \n",
            "_________________________________________________________________\n",
            "dense_6 (Dense)              (None, 8)                 1032      \n",
            "=================================================================\n",
            "Total params: 45,192\n",
            "Trainable params: 44,872\n",
            "Non-trainable params: 320\n",
            "_________________________________________________________________\n",
            "WARNING:tensorflow:From /usr/local/lib/python3.6/dist-packages/tensorflow/python/ops/math_ops.py:3066: to_int32 (from tensorflow.python.ops.math_ops) is deprecated and will be removed in a future version.\n",
            "Instructions for updating:\n",
            "Use tf.cast instead.\n",
            "Train on 11086 samples, validate on 1226 samples\n",
            "Epoch 1/50\n",
            "11086/11086 [==============================] - 169s 15ms/step - loss: 1.1048 - acc: 0.4778 - val_loss: 1.0073 - val_acc: 0.5408\n",
            "Epoch 2/50\n",
            "11086/11086 [==============================] - 167s 15ms/step - loss: 1.0194 - acc: 0.5046 - val_loss: 1.0138 - val_acc: 0.4608\n",
            "Epoch 3/50\n",
            "11086/11086 [==============================] - 167s 15ms/step - loss: 1.0101 - acc: 0.5192 - val_loss: 1.0353 - val_acc: 0.5098\n",
            "Epoch 4/50\n",
            "11086/11086 [==============================] - 167s 15ms/step - loss: 0.9956 - acc: 0.5252 - val_loss: 0.9933 - val_acc: 0.5302\n",
            "Epoch 5/50\n",
            "11086/11086 [==============================] - 167s 15ms/step - loss: 0.9829 - acc: 0.5418 - val_loss: 0.9792 - val_acc: 0.5318\n",
            "Epoch 6/50\n",
            "11086/11086 [==============================] - 168s 15ms/step - loss: 0.9769 - acc: 0.5470 - val_loss: 0.9725 - val_acc: 0.5440\n",
            "Epoch 7/50\n",
            "11086/11086 [==============================] - 168s 15ms/step - loss: 0.9678 - acc: 0.5575 - val_loss: 1.0588 - val_acc: 0.4576\n",
            "Epoch 8/50\n",
            "11086/11086 [==============================] - 169s 15ms/step - loss: 0.9596 - acc: 0.5640 - val_loss: 0.9703 - val_acc: 0.5628\n",
            "Epoch 9/50\n",
            "11086/11086 [==============================] - 169s 15ms/step - loss: 0.9606 - acc: 0.5665 - val_loss: 1.0707 - val_acc: 0.4788\n",
            "Epoch 10/50\n",
            "11086/11086 [==============================] - 168s 15ms/step - loss: 0.9554 - acc: 0.5692 - val_loss: 1.1198 - val_acc: 0.4511\n",
            "Epoch 11/50\n",
            "11086/11086 [==============================] - 168s 15ms/step - loss: 0.9520 - acc: 0.5750 - val_loss: 0.9538 - val_acc: 0.5661\n",
            "Epoch 12/50\n",
            "11086/11086 [==============================] - 167s 15ms/step - loss: 0.9443 - acc: 0.5781 - val_loss: 1.2304 - val_acc: 0.4274\n",
            "Epoch 13/50\n",
            "11086/11086 [==============================] - 167s 15ms/step - loss: 0.9456 - acc: 0.5806 - val_loss: 0.9477 - val_acc: 0.5734\n",
            "Epoch 14/50\n",
            "11086/11086 [==============================] - 168s 15ms/step - loss: 0.9356 - acc: 0.5872 - val_loss: 1.0462 - val_acc: 0.5432\n",
            "Epoch 15/50\n",
            "11086/11086 [==============================] - 168s 15ms/step - loss: 0.9372 - acc: 0.5853 - val_loss: 0.9619 - val_acc: 0.5636\n",
            "Epoch 16/50\n",
            "11086/11086 [==============================] - 169s 15ms/step - loss: 0.9332 - acc: 0.5861 - val_loss: 1.2299 - val_acc: 0.4462\n",
            "Epoch 17/50\n",
            "11086/11086 [==============================] - 168s 15ms/step - loss: 0.9263 - acc: 0.5952 - val_loss: 1.0609 - val_acc: 0.5106\n",
            "Epoch 18/50\n",
            "11086/11086 [==============================] - 168s 15ms/step - loss: 0.9289 - acc: 0.5883 - val_loss: 1.1121 - val_acc: 0.4454\n",
            "Epoch 19/50\n",
            "11086/11086 [==============================] - 178s 16ms/step - loss: 0.9279 - acc: 0.5944 - val_loss: 0.9899 - val_acc: 0.5228\n",
            "Epoch 20/50\n",
            "11086/11086 [==============================] - 169s 15ms/step - loss: 0.9199 - acc: 0.5952 - val_loss: 0.9580 - val_acc: 0.5538\n",
            "Epoch 21/50\n",
            "11086/11086 [==============================] - 169s 15ms/step - loss: 0.9181 - acc: 0.6006 - val_loss: 1.1183 - val_acc: 0.4380\n",
            "Epoch 22/50\n",
            "11086/11086 [==============================] - 168s 15ms/step - loss: 0.9099 - acc: 0.6062 - val_loss: 1.0160 - val_acc: 0.5653\n",
            "Epoch 23/50\n",
            "11086/11086 [==============================] - 169s 15ms/step - loss: 0.9087 - acc: 0.6114 - val_loss: 1.0126 - val_acc: 0.5367\n",
            "Epoch 24/50\n",
            "11086/11086 [==============================] - 169s 15ms/step - loss: 0.9115 - acc: 0.6117 - val_loss: 1.0381 - val_acc: 0.5318\n",
            "Epoch 25/50\n",
            "11086/11086 [==============================] - 169s 15ms/step - loss: 0.9094 - acc: 0.6064 - val_loss: 0.9235 - val_acc: 0.5971\n",
            "Epoch 26/50\n",
            "11086/11086 [==============================] - 170s 15ms/step - loss: 0.9003 - acc: 0.6188 - val_loss: 1.0823 - val_acc: 0.4502\n",
            "Epoch 27/50\n",
            "11086/11086 [==============================] - 169s 15ms/step - loss: 0.9010 - acc: 0.6150 - val_loss: 1.1938 - val_acc: 0.4747\n",
            "Epoch 28/50\n",
            "11086/11086 [==============================] - 168s 15ms/step - loss: 0.8985 - acc: 0.6177 - val_loss: 1.0790 - val_acc: 0.4674\n",
            "Epoch 29/50\n",
            "11086/11086 [==============================] - 167s 15ms/step - loss: 0.8986 - acc: 0.6115 - val_loss: 1.0422 - val_acc: 0.5661\n",
            "Epoch 30/50\n",
            "11086/11086 [==============================] - 168s 15ms/step - loss: 0.8929 - acc: 0.6174 - val_loss: 0.9416 - val_acc: 0.5856\n",
            "Epoch 31/50\n",
            "11086/11086 [==============================] - 168s 15ms/step - loss: 0.8900 - acc: 0.6197 - val_loss: 1.0620 - val_acc: 0.5318\n",
            "Epoch 32/50\n",
            "11086/11086 [==============================] - 168s 15ms/step - loss: 0.8864 - acc: 0.6202 - val_loss: 1.2466 - val_acc: 0.5163\n",
            "Epoch 33/50\n",
            "11086/11086 [==============================] - 167s 15ms/step - loss: 0.8873 - acc: 0.6256 - val_loss: 0.9790 - val_acc: 0.5832\n",
            "Epoch 34/50\n",
            "11086/11086 [==============================] - 168s 15ms/step - loss: 0.8810 - acc: 0.6282 - val_loss: 0.9443 - val_acc: 0.5848\n",
            "Epoch 35/50\n",
            "11086/11086 [==============================] - 167s 15ms/step - loss: 0.8784 - acc: 0.6317 - val_loss: 1.0611 - val_acc: 0.5546\n",
            "Epoch 36/50\n",
            "11086/11086 [==============================] - 168s 15ms/step - loss: 0.8793 - acc: 0.6317 - val_loss: 1.1672 - val_acc: 0.4462\n",
            "Epoch 37/50\n",
            "11086/11086 [==============================] - 168s 15ms/step - loss: 0.8709 - acc: 0.6358 - val_loss: 1.0102 - val_acc: 0.5571\n",
            "Epoch 38/50\n",
            "11086/11086 [==============================] - 168s 15ms/step - loss: 0.8737 - acc: 0.6322 - val_loss: 1.0141 - val_acc: 0.5612\n",
            "Epoch 39/50\n",
            "11086/11086 [==============================] - 167s 15ms/step - loss: 0.8694 - acc: 0.6411 - val_loss: 0.9289 - val_acc: 0.5848\n",
            "Epoch 40/50\n",
            "11086/11086 [==============================] - 167s 15ms/step - loss: 0.8710 - acc: 0.6343 - val_loss: 0.9647 - val_acc: 0.5856\n",
            "Epoch 41/50\n",
            "11086/11086 [==============================] - 167s 15ms/step - loss: 0.8631 - acc: 0.6406 - val_loss: 0.9250 - val_acc: 0.5881\n",
            "Epoch 42/50\n",
            "11086/11086 [==============================] - 167s 15ms/step - loss: 0.8588 - acc: 0.6432 - val_loss: 0.9513 - val_acc: 0.5816\n",
            "Epoch 43/50\n",
            "11086/11086 [==============================] - 168s 15ms/step - loss: 0.8618 - acc: 0.6439 - val_loss: 0.9993 - val_acc: 0.5726\n",
            "Epoch 44/50\n",
            "11086/11086 [==============================] - 168s 15ms/step - loss: 0.8658 - acc: 0.6315 - val_loss: 0.9309 - val_acc: 0.5930\n",
            "Epoch 45/50\n",
            "11086/11086 [==============================] - 168s 15ms/step - loss: 0.8574 - acc: 0.6435 - val_loss: 0.9491 - val_acc: 0.5832\n",
            "Epoch 46/50\n",
            "11086/11086 [==============================] - 169s 15ms/step - loss: 0.8504 - acc: 0.6515 - val_loss: 0.9802 - val_acc: 0.5791\n",
            "Epoch 47/50\n",
            "11086/11086 [==============================] - 168s 15ms/step - loss: 0.8508 - acc: 0.6476 - val_loss: 1.2742 - val_acc: 0.4918\n",
            "Epoch 48/50\n",
            "11086/11086 [==============================] - 168s 15ms/step - loss: 0.8456 - acc: 0.6506 - val_loss: 1.0215 - val_acc: 0.5188\n",
            "Epoch 49/50\n",
            "11086/11086 [==============================] - 167s 15ms/step - loss: 0.8447 - acc: 0.6459 - val_loss: 1.3474 - val_acc: 0.4527\n",
            "Epoch 50/50\n",
            "11086/11086 [==============================] - 169s 15ms/step - loss: 0.8437 - acc: 0.6511 - val_loss: 0.9491 - val_acc: 0.5783\n",
            "Test loss: 1.01\n",
            "Test accuracy: 0.623\n"
          ],
          "name": "stdout"
        },
        {
          "output_type": "display_data",
          "data": {
            "image/png": "[encoded data removed]",
            "text/plain": [
              "<Figure size 432x288 with 1 Axes>"
            ]
          },
          "metadata": {
            "tags": []
          }
        }
      ]
    }
  ]
}