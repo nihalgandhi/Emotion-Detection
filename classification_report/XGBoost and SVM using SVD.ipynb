{
 "cells": [
  {
   "cell_type": "code",
   "execution_count": 1,
   "metadata": {},
   "outputs": [
    {
     "name": "stderr",
     "output_type": "stream",
     "text": [
      "Using TensorFlow backend.\n"
     ]
    }
   ],
   "source": [
    "import numpy as np\n",
    "import tensorflow as tf\n",
    "import matplotlib.pyplot as plt\n",
    "import cv2\n",
    "import pandas as pd\n",
    "import xgboost as xgb\n",
    "from subprocess import check_output\n",
    "%matplotlib inline\n",
    "from sklearn import datasets, svm, metrics\n",
    "from keras.applications.resnet50 import ResNet50\n",
    "np.random.seed(0)"
   ]
  },
  {
   "cell_type": "code",
   "execution_count": 2,
   "metadata": {},
   "outputs": [],
   "source": [
    "import data_loader\n",
    "train_files, train_labels, valid_files, valid_labels, test_files, test_labels, label_dict = data_loader.load_dataset('facial_expressions/images', 'facial_expressions/data/legend.csv', valid_rate=0.1)"
   ]
  },
  {
   "cell_type": "code",
   "execution_count": 3,
   "metadata": {},
   "outputs": [],
   "source": [
    "def image_to_feature_vector(image, size=(64, 64)):\n",
    "\treturn cv2.resize(image, size).flatten()"
   ]
  },
  {
   "cell_type": "code",
   "execution_count": 4,
   "metadata": {},
   "outputs": [],
   "source": [
    "tr_images = []\n",
    "\n",
    "for t,im_path in enumerate(train_files):\n",
    "  img = cv2.imread(im_path, 0)\n",
    "  img2 = image_to_feature_vector(img)\n",
    "  tr_images.append(img2)\n",
    "\n",
    "tr_images = np.asarray(tr_images)"
   ]
  },
  {
   "cell_type": "code",
   "execution_count": 5,
   "metadata": {},
   "outputs": [],
   "source": [
    "ts_images = []\n",
    "\n",
    "for t,im_path in enumerate(test_files):\n",
    "  img = cv2.imread(im_path, 0)\n",
    "  img2 = image_to_feature_vector(img)\n",
    "  ts_images.append(img2)\n",
    "\n",
    "ts_images = np.asarray(ts_images)"
   ]
  },
  {
   "cell_type": "code",
   "execution_count": 11,
   "metadata": {},
   "outputs": [],
   "source": [
    "va_images = []\n",
    "\n",
    "for t,im_path in enumerate(valid_files):\n",
    "  img = cv2.imread(im_path, 0)\n",
    "  img2 = image_to_feature_vector(img)\n",
    "  va_images.append(img2)\n",
    "\n",
    "va_images = np.asarray(va_images)"
   ]
  },
  {
   "cell_type": "markdown",
   "metadata": {},
   "source": [
    "## XGBoost"
   ]
  },
  {
   "cell_type": "code",
   "execution_count": 6,
   "metadata": {},
   "outputs": [],
   "source": [
    "import xgboost\n",
    "from xgboost.sklearn import XGBClassifier\n",
    "from sklearn.pipeline import Pipeline\n",
    "from sklearn.preprocessing import StandardScaler\n",
    "\n",
    "# from sklearn.cross_validation import cross_val_score\n",
    "from sklearn.metrics import accuracy_score\n",
    "\n",
    "from xgboost import plot_importance\n",
    "from matplotlib import pyplot\n",
    "import pprint\n",
    "%matplotlib inline"
   ]
  },
  {
   "cell_type": "code",
   "execution_count": 7,
   "metadata": {},
   "outputs": [],
   "source": [
    "pipeline = Pipeline([('scaler', StandardScaler()), ('classifier', XGBClassifier())])\n"
   ]
  },
  {
   "cell_type": "code",
   "execution_count": 8,
   "metadata": {},
   "outputs": [
    {
     "name": "stderr",
     "output_type": "stream",
     "text": [
      "C:\\Users\\Nilesh Gandhi\\Anaconda3\\lib\\site-packages\\sklearn\\utils\\validation.py:595: DataConversionWarning: Data with input dtype uint8 was converted to float64 by StandardScaler.\n",
      "  warnings.warn(msg, DataConversionWarning)\n",
      "C:\\Users\\Nilesh Gandhi\\Anaconda3\\lib\\site-packages\\sklearn\\utils\\validation.py:595: DataConversionWarning: Data with input dtype uint8 was converted to float64 by StandardScaler.\n",
      "  warnings.warn(msg, DataConversionWarning)\n"
     ]
    },
    {
     "data": {
      "text/plain": [
       "Pipeline(memory=None,\n",
       "     steps=[('scaler', StandardScaler(copy=True, with_mean=True, with_std=True)), ('classifier', XGBClassifier(base_score=0.5, booster='gbtree', colsample_bylevel=1,\n",
       "       colsample_bynode=1, colsample_bytree=1, gamma=0, learning_rate=0.1,\n",
       "       max_delta_step=0, max_depth=3, min_child_weight=1, missin...\n",
       "       reg_lambda=1, scale_pos_weight=1, seed=None, silent=None,\n",
       "       subsample=1, verbosity=1))])"
      ]
     },
     "execution_count": 8,
     "metadata": {},
     "output_type": "execute_result"
    }
   ],
   "source": [
    "pipeline.fit(tr_images, train_labels)\n"
   ]
  },
  {
   "cell_type": "code",
   "execution_count": 12,
   "metadata": {},
   "outputs": [
    {
     "name": "stderr",
     "output_type": "stream",
     "text": [
      "C:\\Users\\Nilesh Gandhi\\Anaconda3\\lib\\site-packages\\sklearn\\utils\\validation.py:595: DataConversionWarning: Data with input dtype uint8 was converted to float64 by StandardScaler.\n",
      "  warnings.warn(msg, DataConversionWarning)\n"
     ]
    }
   ],
   "source": [
    "VaPredxgb = pipeline.predict(va_images)"
   ]
  },
  {
   "cell_type": "code",
   "execution_count": 13,
   "metadata": {},
   "outputs": [
    {
     "name": "stdout",
     "output_type": "stream",
     "text": [
      "Validation XGB Accuracy: 77.16%\n"
     ]
    }
   ],
   "source": [
    "VaAccXGB = accuracy_score(valid_labels, VaPredxgb)\n",
    "\n",
    "print(\"Validation XGB Accuracy: %.2f%%\" % (VaAccXGB * 100.0))"
   ]
  },
  {
   "cell_type": "code",
   "execution_count": 9,
   "metadata": {},
   "outputs": [
    {
     "name": "stderr",
     "output_type": "stream",
     "text": [
      "C:\\Users\\Nilesh Gandhi\\Anaconda3\\lib\\site-packages\\sklearn\\utils\\validation.py:595: DataConversionWarning: Data with input dtype uint8 was converted to float64 by StandardScaler.\n",
      "  warnings.warn(msg, DataConversionWarning)\n"
     ]
    }
   ],
   "source": [
    "y_predxgb = pipeline.predict(ts_images)"
   ]
  },
  {
   "cell_type": "code",
   "execution_count": 10,
   "metadata": {},
   "outputs": [
    {
     "name": "stdout",
     "output_type": "stream",
     "text": [
      "XGB Accuracy: 76.63%\n"
     ]
    }
   ],
   "source": [
    "AccXGB = accuracy_score(test_labels, y_predxgb)\n",
    "\n",
    "print(\"XGB Accuracy: %.2f%%\" % (AccXGB * 100.0))"
   ]
  },
  {
   "cell_type": "markdown",
   "metadata": {},
   "source": [
    "## SVM using SVD representation of images"
   ]
  },
  {
   "cell_type": "code",
   "execution_count": 24,
   "metadata": {},
   "outputs": [
    {
     "name": "stdout",
     "output_type": "stream",
     "text": [
      "W Shape: (11086, 4096)\n",
      "V Shape: (4096, 4096)\n"
     ]
    }
   ],
   "source": [
    "from numpy.linalg import svd\n",
    "X0 = []\n",
    "meanX = np.mean(tr_images, axis=0)\n",
    "# print(meanX.shape)\n",
    "for i in range(len(tr_images)):\n",
    "    X0.append(tr_images[i] - meanX)\n",
    "    \n",
    "X0 = np.array(X0)\n",
    "\n",
    "U,S,V = svd(X0, False)\n",
    "W = U.dot( np.diag(S) )\n",
    "print(\"W Shape:\", W.shape) \n",
    "print(\"V Shape:\", V.shape)"
   ]
  },
  {
   "cell_type": "code",
   "execution_count": 25,
   "metadata": {},
   "outputs": [
    {
     "data": {
      "image/png": "[encoded data removed]",
      "text/plain": [
       "<Figure size 432x288 with 1 Axes>"
      ]
     },
     "metadata": {
      "needs_background": "light"
     },
     "output_type": "display_data"
    }
   ],
   "source": [
    "mse = []\n",
    "K = [500, 1000, 1500, 2000, 2500, 3000]\n",
    "for k in K:\n",
    "    Xhat0 = W[:,:k].dot(V[:k,:])\n",
    "    mse.append(np.mean((X0-Xhat0)**2))\n",
    "    \n",
    "plt.plot(K,mse)\n",
    "plt.xlabel('K')\n",
    "plt.ylabel('MSE')\n",
    "plt.title('MSE vs K')\n",
    "plt.show()"
   ]
  },
  {
   "cell_type": "code",
   "execution_count": 26,
   "metadata": {},
   "outputs": [
    {
     "data": {
      "text/plain": [
       "SVC(C=1.0, cache_size=200, class_weight=None, coef0=0.0,\n",
       "  decision_function_shape='ovr', degree=3, gamma=0.001, kernel='rbf',\n",
       "  max_iter=-1, probability=False, random_state=None, shrinking=True,\n",
       "  tol=0.001, verbose=False)"
      ]
     },
     "execution_count": 26,
     "metadata": {},
     "output_type": "execute_result"
    }
   ],
   "source": [
    "classifier = svm.SVC(gamma=0.001)\n",
    "classifier.fit(Xhat0,train_labels)"
   ]
  },
  {
   "cell_type": "code",
   "execution_count": 28,
   "metadata": {},
   "outputs": [
    {
     "name": "stdout",
     "output_type": "stream",
     "text": [
      "Validation SVM with SVD Accuracy: 50.33%\n"
     ]
    }
   ],
   "source": [
    "VaPredSVMSVD = classifier.predict(va_images)\n",
    "ValAccSVMSVD = metrics.accuracy_score(valid_labels, VaPredSVMSVD)\n",
    "print (\"Validation SVM with SVD Accuracy: %.2f%%\" % (ValAccSVMSVD * 100.0))"
   ]
  },
  {
   "cell_type": "code",
   "execution_count": 29,
   "metadata": {},
   "outputs": [
    {
     "name": "stdout",
     "output_type": "stream",
     "text": [
      "SVM with SVD Accuracy: 49.78%\n"
     ]
    }
   ],
   "source": [
    "PredSVMSVD = classifier.predict(ts_images)\n",
    "AccSVMSVD = metrics.accuracy_score(test_labels, PredSVMSVD)\n",
    "print (\"SVM with SVD Accuracy: %.2f%%\" % (AccSVMSVD * 100.0))\n"
   ]
  },
  {
   "cell_type": "code",
   "execution_count": null,
   "metadata": {},
   "outputs": [],
   "source": []
  }
 ],
 "metadata": {
  "kernelspec": {
   "display_name": "Python 3",
   "language": "python",
   "name": "python3"
  },
  "language_info": {
   "codemirror_mode": {
    "name": "ipython",
    "version": 3
   },
   "file_extension": ".py",
   "mimetype": "text/x-python",
   "name": "python",
   "nbconvert_exporter": "python",
   "pygments_lexer": "ipython3",
   "version": "3.7.3"
  }
 },
 "nbformat": 4,
 "nbformat_minor": 2
}
