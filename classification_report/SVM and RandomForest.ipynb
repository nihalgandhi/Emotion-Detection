{
 "cells": [
  {
   "cell_type": "code",
   "execution_count": 1,
   "metadata": {},
   "outputs": [],
   "source": [
    "import numpy as np\n",
    "import tensorflow as tf\n",
    "import matplotlib.pyplot as plt\n",
    "import cv2\n",
    "import pandas as pd\n",
    "import xgboost as xgb\n",
    "from subprocess import check_output\n",
    "%matplotlib inline\n",
    "from sklearn import datasets, svm, metrics\n",
    "np.random.seed(0)"
   ]
  },
  {
   "cell_type": "code",
   "execution_count": 2,
   "metadata": {},
   "outputs": [],
   "source": [
    "import data_loader\n",
    "train_files, train_labels, valid_files, valid_labels, test_files, test_labels, label_dict = data_loader.load_dataset('facial_expressions/images', 'facial_expressions/data/legend.csv', valid_rate=0.1)"
   ]
  },
  {
   "cell_type": "code",
   "execution_count": 3,
   "metadata": {},
   "outputs": [
    {
     "name": "stdout",
     "output_type": "stream",
     "text": [
      "{'sadness': 0, 'fear': 1, 'anger': 2, 'surprise': 3, 'contempt': 4, 'disgust': 5, 'neutral': 6, 'happiness': 7}\n"
     ]
    }
   ],
   "source": [
    "print(label_dict)\n"
   ]
  },
  {
   "cell_type": "code",
   "execution_count": 4,
   "metadata": {},
   "outputs": [],
   "source": [
    "def image_to_feature_vector(image, size=(64, 64)):\n",
    "\treturn cv2.resize(image, size).flatten()"
   ]
  },
  {
   "cell_type": "code",
   "execution_count": 5,
   "metadata": {},
   "outputs": [],
   "source": [
    "tr_images = []\n",
    "\n",
    "for t,im_path in enumerate(train_files):\n",
    "  img = cv2.imread(im_path, 0)\n",
    "  img2 = image_to_feature_vector(img)\n",
    "  tr_images.append(img2)\n",
    "\n",
    "tr_images = np.asarray(tr_images)"
   ]
  },
  {
   "cell_type": "code",
   "execution_count": 6,
   "metadata": {},
   "outputs": [],
   "source": [
    "ts_images = []\n",
    "\n",
    "for t,im_path in enumerate(test_files):\n",
    "  img = cv2.imread(im_path, 0)\n",
    "  img2 = image_to_feature_vector(img)\n",
    "  ts_images.append(img2)\n",
    "\n",
    "ts_images = np.asarray(ts_images)"
   ]
  },
  {
   "cell_type": "code",
   "execution_count": 7,
   "metadata": {},
   "outputs": [],
   "source": [
    "va_images = []\n",
    "\n",
    "for t,im_path in enumerate(valid_files):\n",
    "  img = cv2.imread(im_path, 0)\n",
    "  img2 = image_to_feature_vector(img)\n",
    "  va_images.append(img2)\n",
    "\n",
    "va_images = np.asarray(va_images)"
   ]
  },
  {
   "cell_type": "code",
   "execution_count": 8,
   "metadata": {},
   "outputs": [
    {
     "name": "stdout",
     "output_type": "stream",
     "text": [
      "(1378, 4096)\n"
     ]
    }
   ],
   "source": [
    "\n",
    "print (ts_images.shape)"
   ]
  },
  {
   "cell_type": "markdown",
   "metadata": {},
   "source": [
    "## SVM"
   ]
  },
  {
   "cell_type": "code",
   "execution_count": 9,
   "metadata": {},
   "outputs": [
    {
     "data": {
      "text/plain": [
       "SVC(C=1.0, cache_size=200, class_weight=None, coef0=0.0,\n",
       "  decision_function_shape='ovr', degree=3, gamma=0.001, kernel='rbf',\n",
       "  max_iter=-1, probability=False, random_state=None, shrinking=True,\n",
       "  tol=0.001, verbose=False)"
      ]
     },
     "execution_count": 9,
     "metadata": {},
     "output_type": "execute_result"
    }
   ],
   "source": [
    "classifier = svm.SVC(gamma=0.001)\n",
    "classifier.fit(tr_images,train_labels)"
   ]
  },
  {
   "cell_type": "code",
   "execution_count": 10,
   "metadata": {},
   "outputs": [],
   "source": [
    "VaPredsvm = classifier.predict(va_images)"
   ]
  },
  {
   "cell_type": "code",
   "execution_count": 13,
   "metadata": {},
   "outputs": [
    {
     "name": "stdout",
     "output_type": "stream",
     "text": [
      "Validation SVM Accuracy: 50.41%\n"
     ]
    }
   ],
   "source": [
    "VaAccSVM = metrics.accuracy_score(valid_labels, VaPredsvm)\n",
    "print (\"Validation SVM Accuracy: %.2f%%\" % (VaAccSVM * 100.0))"
   ]
  },
  {
   "cell_type": "code",
   "execution_count": 12,
   "metadata": {},
   "outputs": [],
   "source": [
    "y_predsvm = classifier.predict(ts_images)"
   ]
  },
  {
   "cell_type": "code",
   "execution_count": 14,
   "metadata": {},
   "outputs": [
    {
     "name": "stdout",
     "output_type": "stream",
     "text": [
      "SVM Accuracy: 49.85%\n"
     ]
    }
   ],
   "source": [
    "AccSVM = metrics.accuracy_score(test_labels, y_predsvm)\n",
    "print (\"SVM Accuracy: %.2f%%\" % (AccSVM * 100.0))"
   ]
  },
  {
   "cell_type": "markdown",
   "metadata": {},
   "source": [
    "## Random Forest"
   ]
  },
  {
   "cell_type": "code",
   "execution_count": 15,
   "metadata": {},
   "outputs": [],
   "source": [
    "from sklearn.ensemble import RandomForestRegressor\n",
    "\n",
    "regressor = RandomForestRegressor(n_estimators=100)  \n"
   ]
  },
  {
   "cell_type": "code",
   "execution_count": 16,
   "metadata": {},
   "outputs": [
    {
     "data": {
      "text/plain": [
       "RandomForestRegressor(bootstrap=True, criterion='mse', max_depth=None,\n",
       "           max_features='auto', max_leaf_nodes=None,\n",
       "           min_impurity_decrease=0.0, min_impurity_split=None,\n",
       "           min_samples_leaf=1, min_samples_split=2,\n",
       "           min_weight_fraction_leaf=0.0, n_estimators=100, n_jobs=None,\n",
       "           oob_score=False, random_state=None, verbose=0, warm_start=False)"
      ]
     },
     "execution_count": 16,
     "metadata": {},
     "output_type": "execute_result"
    }
   ],
   "source": [
    "regressor.fit(tr_images, train_labels) "
   ]
  },
  {
   "cell_type": "code",
   "execution_count": 17,
   "metadata": {},
   "outputs": [],
   "source": [
    "ValPredRF = regressor.predict(va_images)"
   ]
  },
  {
   "cell_type": "code",
   "execution_count": 19,
   "metadata": {},
   "outputs": [
    {
     "name": "stdout",
     "output_type": "stream",
     "text": [
      "Validation SVM Accuracy: 59.05%\n"
     ]
    }
   ],
   "source": [
    "VaAccRF = metrics.accuracy_score(valid_labels, np.rint(ValPredRF))\n",
    "print (\"Validation Random Forest Accuracy: %.2f%%\" % (VaAccRF * 100.0))"
   ]
  },
  {
   "cell_type": "code",
   "execution_count": 20,
   "metadata": {},
   "outputs": [],
   "source": [
    "PredRF = regressor.predict(ts_images)"
   ]
  },
  {
   "cell_type": "code",
   "execution_count": 21,
   "metadata": {},
   "outputs": [
    {
     "name": "stdout",
     "output_type": "stream",
     "text": [
      "Random Forest Accuracy: 59.58%\n"
     ]
    }
   ],
   "source": [
    "AccRF = metrics.accuracy_score(test_labels, np.rint(PredRF))\n",
    "print (\"Random Forest Accuracy: %.2f%%\" % (AccRF * 100.0))"
   ]
  },
  {
   "cell_type": "code",
   "execution_count": null,
   "metadata": {},
   "outputs": [],
   "source": []
  }
 ],
 "metadata": {
  "kernelspec": {
   "display_name": "Python 3",
   "language": "python",
   "name": "python3"
  },
  "language_info": {
   "codemirror_mode": {
    "name": "ipython",
    "version": 3
   },
   "file_extension": ".py",
   "mimetype": "text/x-python",
   "name": "python",
   "nbconvert_exporter": "python",
   "pygments_lexer": "ipython3",
   "version": "3.7.3"
  }
 },
 "nbformat": 4,
 "nbformat_minor": 1
}
